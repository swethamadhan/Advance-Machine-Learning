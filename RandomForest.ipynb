{
  "cells": [
    {
      "cell_type": "markdown",
      "id": "fc906654",
      "metadata": {
        "id": "fc906654"
      },
      "source": [
        "Importing dataset"
      ]
    },
    {
      "cell_type": "code",
      "execution_count": null,
      "id": "5c68341d",
      "metadata": {
        "id": "5c68341d",
        "outputId": "2062ffa7-120b-4f8f-cbd7-eab5871b8ca8"
      },
      "outputs": [
        {
          "data": {
            "text/html": [
              "<div>\n",
              "<style scoped>\n",
              "    .dataframe tbody tr th:only-of-type {\n",
              "        vertical-align: middle;\n",
              "    }\n",
              "\n",
              "    .dataframe tbody tr th {\n",
              "        vertical-align: top;\n",
              "    }\n",
              "\n",
              "    .dataframe thead th {\n",
              "        text-align: right;\n",
              "    }\n",
              "</style>\n",
              "<table border=\"1\" class=\"dataframe\">\n",
              "  <thead>\n",
              "    <tr style=\"text-align: right;\">\n",
              "      <th></th>\n",
              "      <th>year</th>\n",
              "      <th>month</th>\n",
              "      <th>day</th>\n",
              "      <th>week</th>\n",
              "      <th>temp_2</th>\n",
              "      <th>temp_1</th>\n",
              "      <th>average</th>\n",
              "      <th>actual</th>\n",
              "      <th>friend</th>\n",
              "    </tr>\n",
              "  </thead>\n",
              "  <tbody>\n",
              "    <tr>\n",
              "      <th>0</th>\n",
              "      <td>2019</td>\n",
              "      <td>1</td>\n",
              "      <td>1</td>\n",
              "      <td>Fri</td>\n",
              "      <td>45</td>\n",
              "      <td>45</td>\n",
              "      <td>45.6</td>\n",
              "      <td>45</td>\n",
              "      <td>29</td>\n",
              "    </tr>\n",
              "    <tr>\n",
              "      <th>1</th>\n",
              "      <td>2019</td>\n",
              "      <td>1</td>\n",
              "      <td>2</td>\n",
              "      <td>Sat</td>\n",
              "      <td>44</td>\n",
              "      <td>45</td>\n",
              "      <td>45.7</td>\n",
              "      <td>44</td>\n",
              "      <td>61</td>\n",
              "    </tr>\n",
              "    <tr>\n",
              "      <th>2</th>\n",
              "      <td>2019</td>\n",
              "      <td>1</td>\n",
              "      <td>3</td>\n",
              "      <td>Sun</td>\n",
              "      <td>45</td>\n",
              "      <td>44</td>\n",
              "      <td>45.8</td>\n",
              "      <td>41</td>\n",
              "      <td>56</td>\n",
              "    </tr>\n",
              "    <tr>\n",
              "      <th>3</th>\n",
              "      <td>2019</td>\n",
              "      <td>1</td>\n",
              "      <td>4</td>\n",
              "      <td>Mon</td>\n",
              "      <td>44</td>\n",
              "      <td>41</td>\n",
              "      <td>45.9</td>\n",
              "      <td>40</td>\n",
              "      <td>53</td>\n",
              "    </tr>\n",
              "    <tr>\n",
              "      <th>4</th>\n",
              "      <td>2019</td>\n",
              "      <td>1</td>\n",
              "      <td>5</td>\n",
              "      <td>Tues</td>\n",
              "      <td>41</td>\n",
              "      <td>40</td>\n",
              "      <td>46.0</td>\n",
              "      <td>44</td>\n",
              "      <td>41</td>\n",
              "    </tr>\n",
              "  </tbody>\n",
              "</table>\n",
              "</div>"
            ],
            "text/plain": [
              "   year  month  day  week  temp_2  temp_1  average  actual  friend\n",
              "0  2019      1    1   Fri      45      45     45.6      45      29\n",
              "1  2019      1    2   Sat      44      45     45.7      44      61\n",
              "2  2019      1    3   Sun      45      44     45.8      41      56\n",
              "3  2019      1    4   Mon      44      41     45.9      40      53\n",
              "4  2019      1    5  Tues      41      40     46.0      44      41"
            ]
          },
          "execution_count": 1,
          "metadata": {},
          "output_type": "execute_result"
        }
      ],
      "source": [
        "# Pandas is used for data manipulation\n",
        "import pandas as pd\n",
        "# Read in data and display first 5 rows\n",
        "features = pd.read_csv('temps.csv')\n",
        "features.head(5)"
      ]
    },
    {
      "cell_type": "code",
      "execution_count": null,
      "id": "bedeaa1d",
      "metadata": {
        "id": "bedeaa1d",
        "outputId": "2a96eb6e-a4f9-44c6-8d0e-ba1a7e5aee18"
      },
      "outputs": [
        {
          "name": "stdout",
          "output_type": "stream",
          "text": [
            "The shape of our features is: (348, 9)\n"
          ]
        }
      ],
      "source": [
        "print('The shape of our features is:', features.shape)"
      ]
    },
    {
      "cell_type": "code",
      "execution_count": null,
      "id": "08e5bcb6",
      "metadata": {
        "id": "08e5bcb6",
        "outputId": "a935ece4-b134-4b1a-8fd1-4b1a53cca8b4"
      },
      "outputs": [
        {
          "data": {
            "text/html": [
              "<div>\n",
              "<style scoped>\n",
              "    .dataframe tbody tr th:only-of-type {\n",
              "        vertical-align: middle;\n",
              "    }\n",
              "\n",
              "    .dataframe tbody tr th {\n",
              "        vertical-align: top;\n",
              "    }\n",
              "\n",
              "    .dataframe thead th {\n",
              "        text-align: right;\n",
              "    }\n",
              "</style>\n",
              "<table border=\"1\" class=\"dataframe\">\n",
              "  <thead>\n",
              "    <tr style=\"text-align: right;\">\n",
              "      <th></th>\n",
              "      <th>year</th>\n",
              "      <th>month</th>\n",
              "      <th>day</th>\n",
              "      <th>temp_2</th>\n",
              "      <th>temp_1</th>\n",
              "      <th>average</th>\n",
              "      <th>actual</th>\n",
              "      <th>friend</th>\n",
              "    </tr>\n",
              "  </thead>\n",
              "  <tbody>\n",
              "    <tr>\n",
              "      <th>count</th>\n",
              "      <td>348.0</td>\n",
              "      <td>348.000000</td>\n",
              "      <td>348.000000</td>\n",
              "      <td>348.000000</td>\n",
              "      <td>348.000000</td>\n",
              "      <td>348.000000</td>\n",
              "      <td>348.000000</td>\n",
              "      <td>348.000000</td>\n",
              "    </tr>\n",
              "    <tr>\n",
              "      <th>mean</th>\n",
              "      <td>2019.0</td>\n",
              "      <td>6.477011</td>\n",
              "      <td>15.514368</td>\n",
              "      <td>62.652299</td>\n",
              "      <td>62.701149</td>\n",
              "      <td>59.760632</td>\n",
              "      <td>62.543103</td>\n",
              "      <td>60.034483</td>\n",
              "    </tr>\n",
              "    <tr>\n",
              "      <th>std</th>\n",
              "      <td>0.0</td>\n",
              "      <td>3.498380</td>\n",
              "      <td>8.772982</td>\n",
              "      <td>12.165398</td>\n",
              "      <td>12.120542</td>\n",
              "      <td>10.527306</td>\n",
              "      <td>11.794146</td>\n",
              "      <td>15.626179</td>\n",
              "    </tr>\n",
              "    <tr>\n",
              "      <th>min</th>\n",
              "      <td>2019.0</td>\n",
              "      <td>1.000000</td>\n",
              "      <td>1.000000</td>\n",
              "      <td>35.000000</td>\n",
              "      <td>35.000000</td>\n",
              "      <td>45.100000</td>\n",
              "      <td>35.000000</td>\n",
              "      <td>28.000000</td>\n",
              "    </tr>\n",
              "    <tr>\n",
              "      <th>25%</th>\n",
              "      <td>2019.0</td>\n",
              "      <td>3.000000</td>\n",
              "      <td>8.000000</td>\n",
              "      <td>54.000000</td>\n",
              "      <td>54.000000</td>\n",
              "      <td>49.975000</td>\n",
              "      <td>54.000000</td>\n",
              "      <td>47.750000</td>\n",
              "    </tr>\n",
              "    <tr>\n",
              "      <th>50%</th>\n",
              "      <td>2019.0</td>\n",
              "      <td>6.000000</td>\n",
              "      <td>15.000000</td>\n",
              "      <td>62.500000</td>\n",
              "      <td>62.500000</td>\n",
              "      <td>58.200000</td>\n",
              "      <td>62.500000</td>\n",
              "      <td>60.000000</td>\n",
              "    </tr>\n",
              "    <tr>\n",
              "      <th>75%</th>\n",
              "      <td>2019.0</td>\n",
              "      <td>10.000000</td>\n",
              "      <td>23.000000</td>\n",
              "      <td>71.000000</td>\n",
              "      <td>71.000000</td>\n",
              "      <td>69.025000</td>\n",
              "      <td>71.000000</td>\n",
              "      <td>71.000000</td>\n",
              "    </tr>\n",
              "    <tr>\n",
              "      <th>max</th>\n",
              "      <td>2019.0</td>\n",
              "      <td>12.000000</td>\n",
              "      <td>31.000000</td>\n",
              "      <td>117.000000</td>\n",
              "      <td>117.000000</td>\n",
              "      <td>77.400000</td>\n",
              "      <td>92.000000</td>\n",
              "      <td>95.000000</td>\n",
              "    </tr>\n",
              "  </tbody>\n",
              "</table>\n",
              "</div>"
            ],
            "text/plain": [
              "         year       month         day      temp_2      temp_1     average  \\\n",
              "count   348.0  348.000000  348.000000  348.000000  348.000000  348.000000   \n",
              "mean   2019.0    6.477011   15.514368   62.652299   62.701149   59.760632   \n",
              "std       0.0    3.498380    8.772982   12.165398   12.120542   10.527306   \n",
              "min    2019.0    1.000000    1.000000   35.000000   35.000000   45.100000   \n",
              "25%    2019.0    3.000000    8.000000   54.000000   54.000000   49.975000   \n",
              "50%    2019.0    6.000000   15.000000   62.500000   62.500000   58.200000   \n",
              "75%    2019.0   10.000000   23.000000   71.000000   71.000000   69.025000   \n",
              "max    2019.0   12.000000   31.000000  117.000000  117.000000   77.400000   \n",
              "\n",
              "           actual      friend  \n",
              "count  348.000000  348.000000  \n",
              "mean    62.543103   60.034483  \n",
              "std     11.794146   15.626179  \n",
              "min     35.000000   28.000000  \n",
              "25%     54.000000   47.750000  \n",
              "50%     62.500000   60.000000  \n",
              "75%     71.000000   71.000000  \n",
              "max     92.000000   95.000000  "
            ]
          },
          "execution_count": 3,
          "metadata": {},
          "output_type": "execute_result"
        }
      ],
      "source": [
        "features.describe()"
      ]
    },
    {
      "cell_type": "markdown",
      "id": "9b5bf8e1",
      "metadata": {
        "id": "9b5bf8e1"
      },
      "source": [
        "Preprocessing"
      ]
    },
    {
      "cell_type": "code",
      "execution_count": null,
      "id": "ffc8d7a4",
      "metadata": {
        "scrolled": true,
        "id": "ffc8d7a4",
        "outputId": "c8faced4-7cdb-4313-b7ee-20c7f170a084"
      },
      "outputs": [
        {
          "data": {
            "text/html": [
              "<div>\n",
              "<style scoped>\n",
              "    .dataframe tbody tr th:only-of-type {\n",
              "        vertical-align: middle;\n",
              "    }\n",
              "\n",
              "    .dataframe tbody tr th {\n",
              "        vertical-align: top;\n",
              "    }\n",
              "\n",
              "    .dataframe thead th {\n",
              "        text-align: right;\n",
              "    }\n",
              "</style>\n",
              "<table border=\"1\" class=\"dataframe\">\n",
              "  <thead>\n",
              "    <tr style=\"text-align: right;\">\n",
              "      <th></th>\n",
              "      <th>year</th>\n",
              "      <th>month</th>\n",
              "      <th>day</th>\n",
              "      <th>temp_2</th>\n",
              "      <th>temp_1</th>\n",
              "      <th>average</th>\n",
              "      <th>actual</th>\n",
              "      <th>friend</th>\n",
              "      <th>week_Fri</th>\n",
              "      <th>week_Mon</th>\n",
              "      <th>week_Sat</th>\n",
              "      <th>week_Sun</th>\n",
              "      <th>week_Thurs</th>\n",
              "      <th>week_Tues</th>\n",
              "      <th>week_Wed</th>\n",
              "    </tr>\n",
              "  </thead>\n",
              "  <tbody>\n",
              "    <tr>\n",
              "      <th>0</th>\n",
              "      <td>2019</td>\n",
              "      <td>1</td>\n",
              "      <td>1</td>\n",
              "      <td>45</td>\n",
              "      <td>45</td>\n",
              "      <td>45.6</td>\n",
              "      <td>45</td>\n",
              "      <td>29</td>\n",
              "      <td>1</td>\n",
              "      <td>0</td>\n",
              "      <td>0</td>\n",
              "      <td>0</td>\n",
              "      <td>0</td>\n",
              "      <td>0</td>\n",
              "      <td>0</td>\n",
              "    </tr>\n",
              "    <tr>\n",
              "      <th>1</th>\n",
              "      <td>2019</td>\n",
              "      <td>1</td>\n",
              "      <td>2</td>\n",
              "      <td>44</td>\n",
              "      <td>45</td>\n",
              "      <td>45.7</td>\n",
              "      <td>44</td>\n",
              "      <td>61</td>\n",
              "      <td>0</td>\n",
              "      <td>0</td>\n",
              "      <td>1</td>\n",
              "      <td>0</td>\n",
              "      <td>0</td>\n",
              "      <td>0</td>\n",
              "      <td>0</td>\n",
              "    </tr>\n",
              "    <tr>\n",
              "      <th>2</th>\n",
              "      <td>2019</td>\n",
              "      <td>1</td>\n",
              "      <td>3</td>\n",
              "      <td>45</td>\n",
              "      <td>44</td>\n",
              "      <td>45.8</td>\n",
              "      <td>41</td>\n",
              "      <td>56</td>\n",
              "      <td>0</td>\n",
              "      <td>0</td>\n",
              "      <td>0</td>\n",
              "      <td>1</td>\n",
              "      <td>0</td>\n",
              "      <td>0</td>\n",
              "      <td>0</td>\n",
              "    </tr>\n",
              "    <tr>\n",
              "      <th>3</th>\n",
              "      <td>2019</td>\n",
              "      <td>1</td>\n",
              "      <td>4</td>\n",
              "      <td>44</td>\n",
              "      <td>41</td>\n",
              "      <td>45.9</td>\n",
              "      <td>40</td>\n",
              "      <td>53</td>\n",
              "      <td>0</td>\n",
              "      <td>1</td>\n",
              "      <td>0</td>\n",
              "      <td>0</td>\n",
              "      <td>0</td>\n",
              "      <td>0</td>\n",
              "      <td>0</td>\n",
              "    </tr>\n",
              "    <tr>\n",
              "      <th>4</th>\n",
              "      <td>2019</td>\n",
              "      <td>1</td>\n",
              "      <td>5</td>\n",
              "      <td>41</td>\n",
              "      <td>40</td>\n",
              "      <td>46.0</td>\n",
              "      <td>44</td>\n",
              "      <td>41</td>\n",
              "      <td>0</td>\n",
              "      <td>0</td>\n",
              "      <td>0</td>\n",
              "      <td>0</td>\n",
              "      <td>0</td>\n",
              "      <td>1</td>\n",
              "      <td>0</td>\n",
              "    </tr>\n",
              "    <tr>\n",
              "      <th>...</th>\n",
              "      <td>...</td>\n",
              "      <td>...</td>\n",
              "      <td>...</td>\n",
              "      <td>...</td>\n",
              "      <td>...</td>\n",
              "      <td>...</td>\n",
              "      <td>...</td>\n",
              "      <td>...</td>\n",
              "      <td>...</td>\n",
              "      <td>...</td>\n",
              "      <td>...</td>\n",
              "      <td>...</td>\n",
              "      <td>...</td>\n",
              "      <td>...</td>\n",
              "      <td>...</td>\n",
              "    </tr>\n",
              "    <tr>\n",
              "      <th>343</th>\n",
              "      <td>2019</td>\n",
              "      <td>12</td>\n",
              "      <td>27</td>\n",
              "      <td>42</td>\n",
              "      <td>42</td>\n",
              "      <td>45.2</td>\n",
              "      <td>47</td>\n",
              "      <td>47</td>\n",
              "      <td>0</td>\n",
              "      <td>0</td>\n",
              "      <td>0</td>\n",
              "      <td>0</td>\n",
              "      <td>0</td>\n",
              "      <td>1</td>\n",
              "      <td>0</td>\n",
              "    </tr>\n",
              "    <tr>\n",
              "      <th>344</th>\n",
              "      <td>2019</td>\n",
              "      <td>12</td>\n",
              "      <td>28</td>\n",
              "      <td>42</td>\n",
              "      <td>47</td>\n",
              "      <td>45.3</td>\n",
              "      <td>48</td>\n",
              "      <td>58</td>\n",
              "      <td>0</td>\n",
              "      <td>0</td>\n",
              "      <td>0</td>\n",
              "      <td>0</td>\n",
              "      <td>0</td>\n",
              "      <td>0</td>\n",
              "      <td>1</td>\n",
              "    </tr>\n",
              "    <tr>\n",
              "      <th>345</th>\n",
              "      <td>2019</td>\n",
              "      <td>12</td>\n",
              "      <td>29</td>\n",
              "      <td>47</td>\n",
              "      <td>48</td>\n",
              "      <td>45.3</td>\n",
              "      <td>48</td>\n",
              "      <td>65</td>\n",
              "      <td>0</td>\n",
              "      <td>0</td>\n",
              "      <td>0</td>\n",
              "      <td>0</td>\n",
              "      <td>1</td>\n",
              "      <td>0</td>\n",
              "      <td>0</td>\n",
              "    </tr>\n",
              "    <tr>\n",
              "      <th>346</th>\n",
              "      <td>2019</td>\n",
              "      <td>12</td>\n",
              "      <td>30</td>\n",
              "      <td>48</td>\n",
              "      <td>48</td>\n",
              "      <td>45.4</td>\n",
              "      <td>57</td>\n",
              "      <td>42</td>\n",
              "      <td>1</td>\n",
              "      <td>0</td>\n",
              "      <td>0</td>\n",
              "      <td>0</td>\n",
              "      <td>0</td>\n",
              "      <td>0</td>\n",
              "      <td>0</td>\n",
              "    </tr>\n",
              "    <tr>\n",
              "      <th>347</th>\n",
              "      <td>2019</td>\n",
              "      <td>12</td>\n",
              "      <td>31</td>\n",
              "      <td>48</td>\n",
              "      <td>57</td>\n",
              "      <td>45.5</td>\n",
              "      <td>40</td>\n",
              "      <td>57</td>\n",
              "      <td>0</td>\n",
              "      <td>0</td>\n",
              "      <td>1</td>\n",
              "      <td>0</td>\n",
              "      <td>0</td>\n",
              "      <td>0</td>\n",
              "      <td>0</td>\n",
              "    </tr>\n",
              "  </tbody>\n",
              "</table>\n",
              "<p>348 rows × 15 columns</p>\n",
              "</div>"
            ],
            "text/plain": [
              "     year  month  day  temp_2  temp_1  average  actual  friend  week_Fri  \\\n",
              "0    2019      1    1      45      45     45.6      45      29         1   \n",
              "1    2019      1    2      44      45     45.7      44      61         0   \n",
              "2    2019      1    3      45      44     45.8      41      56         0   \n",
              "3    2019      1    4      44      41     45.9      40      53         0   \n",
              "4    2019      1    5      41      40     46.0      44      41         0   \n",
              "..    ...    ...  ...     ...     ...      ...     ...     ...       ...   \n",
              "343  2019     12   27      42      42     45.2      47      47         0   \n",
              "344  2019     12   28      42      47     45.3      48      58         0   \n",
              "345  2019     12   29      47      48     45.3      48      65         0   \n",
              "346  2019     12   30      48      48     45.4      57      42         1   \n",
              "347  2019     12   31      48      57     45.5      40      57         0   \n",
              "\n",
              "     week_Mon  week_Sat  week_Sun  week_Thurs  week_Tues  week_Wed  \n",
              "0           0         0         0           0          0         0  \n",
              "1           0         1         0           0          0         0  \n",
              "2           0         0         1           0          0         0  \n",
              "3           1         0         0           0          0         0  \n",
              "4           0         0         0           0          1         0  \n",
              "..        ...       ...       ...         ...        ...       ...  \n",
              "343         0         0         0           0          1         0  \n",
              "344         0         0         0           0          0         1  \n",
              "345         0         0         0           1          0         0  \n",
              "346         0         0         0           0          0         0  \n",
              "347         0         1         0           0          0         0  \n",
              "\n",
              "[348 rows x 15 columns]"
            ]
          },
          "execution_count": 4,
          "metadata": {},
          "output_type": "execute_result"
        }
      ],
      "source": [
        "# One-hot encode the data using pandas get_dummies\n",
        "features = pd.get_dummies(features)\n",
        "features"
      ]
    },
    {
      "cell_type": "markdown",
      "id": "dc7dd013",
      "metadata": {
        "id": "dc7dd013"
      },
      "source": [
        "Splitting Dataset"
      ]
    },
    {
      "cell_type": "code",
      "execution_count": null,
      "id": "122daf3e",
      "metadata": {
        "id": "122daf3e"
      },
      "outputs": [],
      "source": [
        "# Use numpy to convert to arrays\n",
        "import numpy as np\n",
        "# Labels are the values we want to predict\n",
        "labels = np.array(features['actual'])"
      ]
    },
    {
      "cell_type": "code",
      "execution_count": null,
      "id": "709ac10c",
      "metadata": {
        "id": "709ac10c"
      },
      "outputs": [],
      "source": [
        "# Remove the labels from the features\n",
        "# axis 1 refers to the columns\n",
        "features= features.drop('actual', axis = 1)"
      ]
    },
    {
      "cell_type": "code",
      "execution_count": null,
      "id": "a3ed5b65",
      "metadata": {
        "id": "a3ed5b65"
      },
      "outputs": [],
      "source": [
        "# Saving feature names for later use\n",
        "feature_list = list(features.columns)\n",
        "# Convert to numpy array\n",
        "features = np.array(features)"
      ]
    },
    {
      "cell_type": "code",
      "execution_count": null,
      "id": "0ce74f1c",
      "metadata": {
        "id": "0ce74f1c"
      },
      "outputs": [],
      "source": [
        "# Using Skicit-learn to split data into training and testing sets\n",
        "from sklearn.model_selection import train_test_split\n",
        "# Split the data into training and testing sets\n",
        "train_features, test_features, train_labels, test_labels = train_test_split(features, labels, test_size = 0.25, random_state = 42)"
      ]
    },
    {
      "cell_type": "code",
      "execution_count": null,
      "id": "58507a39",
      "metadata": {
        "scrolled": true,
        "id": "58507a39",
        "outputId": "02e5ab5c-543c-4bcf-dd83-c4c6c432e67c"
      },
      "outputs": [
        {
          "name": "stdout",
          "output_type": "stream",
          "text": [
            "Training Features Shape: (261, 14)\n",
            "Training Labels Shape: (261,)\n",
            "Testing Features Shape: (87, 14)\n",
            "Testing Labels Shape: (87,)\n"
          ]
        }
      ],
      "source": [
        "print('Training Features Shape:', train_features.shape)\n",
        "print('Training Labels Shape:', train_labels.shape)\n",
        "print('Testing Features Shape:', test_features.shape)\n",
        "print('Testing Labels Shape:', test_labels.shape)"
      ]
    },
    {
      "cell_type": "markdown",
      "id": "41d502c3",
      "metadata": {
        "id": "41d502c3"
      },
      "source": [
        "Baseline error"
      ]
    },
    {
      "cell_type": "code",
      "execution_count": null,
      "id": "e5f26aa9",
      "metadata": {
        "id": "e5f26aa9",
        "outputId": "2f4088a5-3fd1-4bd3-9b66-7d89ccd69aa2"
      },
      "outputs": [
        {
          "name": "stdout",
          "output_type": "stream",
          "text": [
            "Average baseline error:  5.06\n"
          ]
        }
      ],
      "source": [
        "# The baseline predictions are the historical averages\n",
        "baseline_preds = test_features[:, feature_list.index('average')]\n",
        "# Baseline errors, and display average baseline error\n",
        "baseline_errors = abs(baseline_preds - test_labels)\n",
        "print('Average baseline error: ', round(np.mean(baseline_errors), 2))"
      ]
    },
    {
      "cell_type": "markdown",
      "id": "5babadfe",
      "metadata": {
        "id": "5babadfe"
      },
      "source": [
        "Creating Model"
      ]
    },
    {
      "cell_type": "code",
      "execution_count": null,
      "id": "2bb05c80",
      "metadata": {
        "id": "2bb05c80"
      },
      "outputs": [],
      "source": [
        "# Import the model we are using\n",
        "from sklearn.ensemble import RandomForestRegressor\n",
        "# Instantiate model with 1000 decision trees\n",
        "rf = RandomForestRegressor(n_estimators = 1000, random_state = 42)\n",
        "# Train the model on training data\n",
        "rf.fit(train_features, train_labels);"
      ]
    },
    {
      "cell_type": "markdown",
      "id": "3345d734",
      "metadata": {
        "id": "3345d734"
      },
      "source": [
        "Prediction"
      ]
    },
    {
      "cell_type": "code",
      "execution_count": null,
      "id": "00c4c6da",
      "metadata": {
        "scrolled": true,
        "id": "00c4c6da",
        "outputId": "c53dfbd8-9650-4314-d0e5-e9197b3f109d"
      },
      "outputs": [
        {
          "data": {
            "text/plain": [
              "array([68.546, 60.784, 51.793, 60.927, 65.881, 70.528, 80.896, 78.619,\n",
              "       62.719, 73.128, 63.602, 72.64 , 38.659, 62.429, 71.211, 56.202,\n",
              "       60.822, 56.842, 57.348, 76.862, 64.103, 54.39 , 65.619, 62.349,\n",
              "       58.085, 52.536, 67.117, 47.089, 61.673, 78.307, 73.671, 64.337,\n",
              "       55.865, 80.073, 73.967, 61.824, 53.672, 50.83 , 68.275, 43.457,\n",
              "       70.446, 57.512, 76.381, 42.691, 61.097, 73.52 , 52.555, 79.064,\n",
              "       54.275, 42.529, 46.701, 42.727, 64.663, 65.748, 74.633, 61.44 ,\n",
              "       55.451, 59.685, 53.377, 59.33 , 66.457, 50.433, 60.308, 70.522,\n",
              "       59.998, 58.837, 71.399, 69.518, 75.912, 40.739, 78.394, 56.005,\n",
              "       60.448, 49.8  , 54.326, 63.446, 43.876, 76.366, 48.199, 52.312,\n",
              "       53.308, 68.748, 73.033, 73.27 , 63.059, 58.739, 46.929])"
            ]
          },
          "execution_count": 12,
          "metadata": {},
          "output_type": "execute_result"
        }
      ],
      "source": [
        "predictions = rf.predict(test_features)\n",
        "predictions"
      ]
    },
    {
      "cell_type": "markdown",
      "id": "40c75088",
      "metadata": {
        "id": "40c75088"
      },
      "source": [
        "Mean Absolute Error"
      ]
    },
    {
      "cell_type": "code",
      "execution_count": null,
      "id": "ad101c98",
      "metadata": {
        "id": "ad101c98",
        "outputId": "708e0453-7fd6-4e10-a0b8-49485d302f44"
      },
      "outputs": [
        {
          "name": "stdout",
          "output_type": "stream",
          "text": [
            "Mean Absolute Error: 3.83 degrees.\n"
          ]
        }
      ],
      "source": [
        "# Use the forest's predict method on the test data\n",
        "predictions = rf.predict(test_features)\n",
        "# Calculate the absolute errors\n",
        "errors = abs(predictions - test_labels)\n",
        "# Print out the mean absolute error (mae)\n",
        "print('Mean Absolute Error:', round(np.mean(errors), 2), 'degrees.')"
      ]
    },
    {
      "cell_type": "markdown",
      "id": "6e5cdc6e",
      "metadata": {
        "id": "6e5cdc6e"
      },
      "source": [
        "Accuracy"
      ]
    },
    {
      "cell_type": "code",
      "execution_count": null,
      "id": "7ac6b27a",
      "metadata": {
        "id": "7ac6b27a",
        "outputId": "b4b1281d-1592-46d9-ce85-963bfe4f0ee2"
      },
      "outputs": [
        {
          "name": "stdout",
          "output_type": "stream",
          "text": [
            "Accuracy: 93.98 %.\n"
          ]
        }
      ],
      "source": [
        "# Calculate mean absolute percentage error (MAPE)\n",
        "mape = 100 * (errors / test_labels)\n",
        "# Calculate and display accuracy\n",
        "accuracy = 100 - np.mean(mape)\n",
        "print('Accuracy:', round(accuracy, 2), '%.')"
      ]
    }
  ],
  "metadata": {
    "kernelspec": {
      "display_name": "Python 3 (ipykernel)",
      "language": "python",
      "name": "python3"
    },
    "language_info": {
      "codemirror_mode": {
        "name": "ipython",
        "version": 3
      },
      "file_extension": ".py",
      "mimetype": "text/x-python",
      "name": "python",
      "nbconvert_exporter": "python",
      "pygments_lexer": "ipython3",
      "version": "3.9.12"
    },
    "colab": {
      "provenance": []
    }
  },
  "nbformat": 4,
  "nbformat_minor": 5
}